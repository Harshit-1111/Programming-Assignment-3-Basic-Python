{
 "cells": [
  {
   "cell_type": "code",
   "execution_count": 19,
   "id": "4ebea561",
   "metadata": {},
   "outputs": [
    {
     "name": "stdout",
     "output_type": "stream",
     "text": [
      "Enter any Number0\n",
      "This is Zero\n"
     ]
    }
   ],
   "source": [
    "#Q1 Write a Python Program to Check if a Number is Positive, Negative or Zero?\n",
    "\n",
    "num=int(input(\"Enter any Number\"))\n",
    "if num < 0 :\n",
    "    print(\"The number is Negative\")\n",
    "elif num > 0 :\n",
    "        print(\"The number is Positive\")\n",
    "else :\n",
    "    print(\"This is Zero\")"
   ]
  },
  {
   "cell_type": "code",
   "execution_count": 22,
   "id": "c526a417",
   "metadata": {},
   "outputs": [
    {
     "name": "stdout",
     "output_type": "stream",
     "text": [
      "Enter your number66\n",
      "Number is even\n"
     ]
    }
   ],
   "source": [
    "#Q2 Write a Python Program to Check if a Number is Odd or Even?\n",
    "num=int(input(\"Enter your number\"))\n",
    "if num%2 == 0 :\n",
    "    print(\"Number is even\")\n",
    "else :\n",
    "    print(\"Number is Odd\")"
   ]
  },
  {
   "cell_type": "code",
   "execution_count": 24,
   "id": "3c346f07",
   "metadata": {},
   "outputs": [
    {
     "name": "stdout",
     "output_type": "stream",
     "text": [
      "Enter the year you want to check2013\n",
      "This is not a leap year\n"
     ]
    }
   ],
   "source": [
    "#Q3 Write a Python Program to Check Leap Year?\n",
    "year=int(input(\"Enter the year you want to check\"))\n",
    "if year%4==0 :\n",
    "    print(\"This is a leap year\")\n",
    "else :\n",
    "    print(\"This is not a leap year\")"
   ]
  },
  {
   "cell_type": "code",
   "execution_count": null,
   "id": "a6d779f0",
   "metadata": {},
   "outputs": [],
   "source": [
    "#Q4 Write a Python Program to Check Prime Number?\n",
    "num= int(input(\"Enter the number\"))\n",
    "count=0\n",
    "i=1\n",
    "while (i<=num):\n",
    "    if(num%i==0):\n",
    "        count=count+1\n",
    "        i=i+1\n",
    "    if(count==2):\n",
    "        print(\"This is a Prime number\")\n",
    "    else :\n",
    "        print(\"This is not a prime number\")\n"
   ]
  },
  {
   "cell_type": "code",
   "execution_count": null,
   "id": "43f1776a",
   "metadata": {},
   "outputs": [],
   "source": [
    "#Q5 Write a Python Program to Print all Prime Numbers in an Interval of 1-10000?\n",
    "l=1\n",
    "h=10000\n",
    "print(\"Prime numbers between\",l,\"and\",h, \"are :\")\n",
    "for num in range(l,h+1):\n",
    "    if num>1\n",
    "    for i in range(2, num):\n",
    "           if (num % i) == 0:\n",
    "                break\n",
    "    else:\n",
    "           print(num)"
   ]
  },
  {
   "cell_type": "code",
   "execution_count": null,
   "id": "9b917b36",
   "metadata": {},
   "outputs": [],
   "source": []
  },
  {
   "cell_type": "code",
   "execution_count": null,
   "id": "5f3ba818",
   "metadata": {},
   "outputs": [],
   "source": []
  }
 ],
 "metadata": {
  "kernelspec": {
   "display_name": "Python 3 (ipykernel)",
   "language": "python",
   "name": "python3"
  },
  "language_info": {
   "codemirror_mode": {
    "name": "ipython",
    "version": 3
   },
   "file_extension": ".py",
   "mimetype": "text/x-python",
   "name": "python",
   "nbconvert_exporter": "python",
   "pygments_lexer": "ipython3",
   "version": "3.9.7"
  }
 },
 "nbformat": 4,
 "nbformat_minor": 5
}
